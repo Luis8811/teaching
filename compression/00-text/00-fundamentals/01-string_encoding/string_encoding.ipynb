{
 "cells": [
  {
   "cell_type": "markdown",
   "metadata": {
    "slideshow": {
     "slide_type": "slide"
    }
   },
   "source": [
    "# String encoding\n",
    "\n",
    "### How it works?\n",
    "\n",
    "* We replace strings by shorter code-words.\n",
    "* Strings are searched in a dictionary, and the sequence of positions of the strings in the dictionary form the code-stream."
   ]
  },
  {
   "cell_type": "markdown",
   "metadata": {
    "slideshow": {
     "slide_type": "slide"
    }
   },
   "source": [
    "# 1. LZ77 [[Ziv and Lempel, 1977]](https://scholar.google.es/scholar?hl=es&as_sdt=0%2C5&q=Ziv+Lempel+universal+sequential+data+compression+1977&btnG=)\n",
    "\n",
    "* Jacov Ziv and Abraham Lempel proposed the LZ77 algorithm in 1977. \n",
    "* In the eighties, [LZSS](https://en.wikipedia.org/wiki/Lempel%E2%80%93Ziv%E2%80%93Storer%E2%80%93Szymanski) (a branch of LZ77) was\n",
    "  implemented by Haruyasu Yoshizaki (in the [LHA compressor](https://en.wikipedia.org/wiki/LHA_(file_format)), discovering\n",
    "  the possibilities of the LZ77 encoder.\n",
    "* After that, a large number of text compressors have been based\n",
    "  on LZ77 (or a variation of it). Some of the most famous\n",
    "  are: [ARJ](https://en.wikipedia.org/wiki/ARJ), [RAR](https://en.wikipedia.org/wiki/RAR_(file_format), [gzip](https://en.wikipedia.org/wiki/Gzip) and [7z](https://en.wikipedia.org/wiki/7z).\n",
    "* LZ77 processes a sequence of symbols using the structure:\n",
    "\n",
    "<img src=\"data/LZ77.png\" width=\"600\">\n",
    "\n",
    "* The dictionary and the look-ahead buffer have a fixed size and\n",
    "  can be considered as a sliding window moving over the symbols while they are coded.\n",
    "  In each iteration, the input of new\n",
    "  symbols to the buffer generates the output of the oldest ones, which become the\n",
    "  newest symbols of the dictionary."
   ]
  },
  {
   "cell_type": "markdown",
   "metadata": {
    "slideshow": {
     "slide_type": "subslide"
    }
   },
   "source": [
    "### Encoder\n",
    "\n",
    "1. Let $I$ the length of the dictionary and $J$ the length of the\n",
    "   buffer.\n",
    "2. Input the first $J$ symbols in the buffer.\n",
    "3. While the input is not exhausted:\n",
    "    1. Let $i$ the position of the first $j$\n",
    "    symbols of the buffer in the dictionary, and $k$ the symbol that makes that $j$ can\n",
    "    not be larger.\n",
    "    2. Output $ijk$.\n",
    "    3. Input the next $j+1$ symbols in the buffer."
   ]
  },
  {
   "cell_type": "markdown",
   "metadata": {
    "slideshow": {
     "slide_type": "subslide"
    }
   },
   "source": [
    "### Example\n",
    "<img src=\"data/LZ77_encoding_example.png\" width=\"800\">"
   ]
  },
  {
   "cell_type": "markdown",
   "metadata": {
    "slideshow": {
     "slide_type": "subslide"
    }
   },
   "source": [
    "### Decoder\n",
    "\n",
    "1. While code-words $ijk$ are input:\n",
    "    1. Output the $j$ symbols extracted from the position $i$ in the\n",
    "    dictionary.\n",
    "    2. Output $k$.\n",
    "    3. Put all the decoded symbols in the beginnig of the buffer."
   ]
  },
  {
   "cell_type": "markdown",
   "metadata": {
    "slideshow": {
     "slide_type": "subslide"
    }
   },
   "source": [
    "### Example\n",
    "<img src=\"data/LZ77_decoding_example.png\" width=\"500\">\n",
    "\n",
    "* Parameters $I$ and $J$ control the performance\n",
    "  of the algorithm. They should be large enough to guarantee the\n",
    "  matching of long strings, but should be small in order to reduce\n",
    "  the number of bits of the code-words $ijk$. Typical sizes are:\n",
    "  $\\log_2(I)=12.0$ and $\\log_2(J)=4.0$."
   ]
  },
  {
   "cell_type": "markdown",
   "metadata": {
    "slideshow": {
     "slide_type": "subslide"
    }
   },
   "source": [
    "### Lab"
   ]
  },
  {
   "cell_type": "code",
   "execution_count": 1,
   "metadata": {},
   "outputs": [
    {
     "ename": "ModuleNotFoundError",
     "evalue": "No module named 'bitarray'",
     "output_type": "error",
     "traceback": [
      "\u001b[0;31m---------------------------------------------------------------------------\u001b[0m",
      "\u001b[0;31mModuleNotFoundError\u001b[0m                       Traceback (most recent call last)",
      "\u001b[0;32m<ipython-input-1-f5dcd1872af2>\u001b[0m in \u001b[0;36m<module>\u001b[0;34m()\u001b[0m\n\u001b[1;32m      1\u001b[0m \u001b[0;32mimport\u001b[0m \u001b[0mmath\u001b[0m\u001b[0;34m\u001b[0m\u001b[0m\n\u001b[0;32m----> 2\u001b[0;31m \u001b[0;32mfrom\u001b[0m \u001b[0mbitarray\u001b[0m \u001b[0;32mimport\u001b[0m \u001b[0mbitarray\u001b[0m\u001b[0;34m\u001b[0m\u001b[0m\n\u001b[0m\u001b[1;32m      3\u001b[0m \u001b[0;34m\u001b[0m\u001b[0m\n\u001b[1;32m      4\u001b[0m \u001b[0;34m\u001b[0m\u001b[0m\n\u001b[1;32m      5\u001b[0m \u001b[0;32mclass\u001b[0m \u001b[0mLZ77Compressor\u001b[0m\u001b[0;34m:\u001b[0m\u001b[0;34m\u001b[0m\u001b[0m\n",
      "\u001b[0;31mModuleNotFoundError\u001b[0m: No module named 'bitarray'"
     ]
    }
   ],
   "source": [
    "import math\n",
    "from bitarray import bitarray\n",
    "\n",
    "\n",
    "class LZ77Compressor:\n",
    "    \"\"\"\n",
    "    A simplified implementation of the LZ77 Compression Algorithm\n",
    "    \"\"\"\n",
    "    MAX_WINDOW_SIZE = 400\n",
    "\n",
    "    def __init__(self, window_size=20):\n",
    "        self.window_size = min(window_size, self.MAX_WINDOW_SIZE)  \n",
    "        self.lookahead_buffer_size = 15 # length of match is at most 4 bits\n",
    "\n",
    "    def compress(self, input_file_path, output_file_path, verbose=True):\n",
    "        data = None\n",
    "        #data = 'mahi magi magi mahi mahi hello mahi madi mahi mahi mahi facebook hello world mahi magi magi mahi mahi hello mahi madi mahi mahi mahi facebook hello world mahi magi magi mahi mahi hello mahi madi mahi mahi mahi facebook hello world '\n",
    "        #data = input_data\n",
    "        i = 0\n",
    "        output_buffer = bitarray(endian='big')\n",
    "\n",
    "        # read the input file \n",
    "        try:\n",
    "            with open(input_file_path, 'r') as input_file:\n",
    "                data = input_file.read()\n",
    "        except IOError:\n",
    "            print ('Could not open input file ...')\n",
    "            raise\n",
    "\n",
    "        while i < (len(data)-1):\n",
    "            #print i\n",
    "\n",
    "            match = self.findLongestMatch(data, i)\n",
    "\n",
    "            if match: \n",
    "                # Add 1 bit flag, followed by 12 bit for distance, and 4 bit for the length\n",
    "                # of the match \n",
    "                (bestMatchDistance, bestMatchLength) = match\n",
    "\n",
    "                output_buffer.append(True)\n",
    "                output_buffer.frombytes(bytes(chr(bestMatchDistance >> 4),\"latin-1\"))\n",
    "                output_buffer.frombytes(bytes(chr(((bestMatchDistance & 0xf) << 4) | bestMatchLength),\"latin-1\"))\n",
    "\n",
    "                if verbose:\n",
    "                    print((\"<1, %i, %i>\") % (bestMatchDistance, bestMatchLength), end=' ')\n",
    "\n",
    "                i += bestMatchLength\n",
    "\n",
    "            else:\n",
    "                # No useful match was found. Add 0 bit flag, followed by 8 bit for the character\n",
    "                output_buffer.append(False)\n",
    "                output_buffer.frombytes(bytes(data[i],\"latin-1\"))\n",
    "\n",
    "                if verbose:\n",
    "                    print((\"<0, %s>\") % data[i], end=' ')\n",
    "\n",
    "                i += 1\n",
    "\n",
    "        # fill the buffer with zeros if the number of bits is not a multiple of 8\t\t\n",
    "        output_buffer.fill()\n",
    "\n",
    "        # write the compressed data into a binary file if a path is provided\n",
    "        if output_file_path:\n",
    "            try:\n",
    "                with open(output_file_path, 'wb') as output_file:\n",
    "                    output_file.write(output_buffer.tobytes())\n",
    "                    print (\"\\n\" + \"File was compressed successfully and saved to output path ...\")\n",
    "                    return None\n",
    "            except IOError:\n",
    "                print ('Could not write to output file path. Please check if the path is correct ...')\n",
    "                raise\n",
    "\n",
    "        # an output file path was not provided, return the compressed data\n",
    "        return output_buffer\n",
    "\n",
    "\n",
    "    def decompress(self, input_file_path, output_file_path):\n",
    "        data = bitarray(endian='big')\n",
    "        output_buffer = []\n",
    "\n",
    "        # read the input file\n",
    "        try:\n",
    "            with open(input_file_path, 'rb') as input_file:\n",
    "                data.fromfile(input_file)\n",
    "        except IOError:\n",
    "            print ('Could not open input file ...')\n",
    "            raise\n",
    "\n",
    "        while (len(data)-1) >= 9:\n",
    "\n",
    "            flag = data.pop(0)\n",
    "\n",
    "            if not flag:\n",
    "                byte = data[0:8].tobytes()\n",
    "\n",
    "                output_buffer.append(byte)\n",
    "                del data[0:8]\n",
    "            else:\n",
    "                byte1 = ord(data[0:8].tobytes())\n",
    "                byte2 = ord(data[8:16].tobytes())\n",
    "\n",
    "                del data[0:16]\n",
    "                distance = (byte1 << 4) | (byte2 >> 4)\n",
    "                length = (byte2 & 0xf)\n",
    "\n",
    "                for i in range(length):\n",
    "                    output_buffer.append(output_buffer[-distance])\n",
    "        out_data =  b''.join(output_buffer)\n",
    "\n",
    "        if output_file_path:\n",
    "            try:\n",
    "                with open(output_file_path, 'wb') as output_file:\n",
    "                    output_file.write(out_data)\n",
    "                    print ('File was decompressed successfully and saved to output path ...')\n",
    "                    return None \n",
    "            except IOError:\n",
    "                print ('Could not write to output file path. Please check if the path is correct ...')\n",
    "                raise \n",
    "        return out_data\n",
    "\n",
    "    def findLongestMatch(self, data, current_position):\n",
    "        end_of_buffer = min(current_position + self.lookahead_buffer_size, len(data) + 1)\n",
    "\n",
    "        best_match_distance = -1\n",
    "        best_match_length = -1\n",
    "\n",
    "        # Optimization: Only consider substrings of length 2 and greater, and just \n",
    "        # output any substring of length 1 (8 bits uncompressed is better than 13 bits\n",
    "        # for the flag, distance, and length)\n",
    "        for j in range(current_position + 2, end_of_buffer):\n",
    "\n",
    "            start_index = max(0, current_position - self.window_size)\n",
    "            substring = data[current_position:j]\n",
    "\n",
    "            for i in range(start_index, current_position):\n",
    "\n",
    "                repetitions = int(len(substring) / (current_position - i))\n",
    "\n",
    "                last = int(len(substring) % (current_position - i))\n",
    "\n",
    "                matched_string = data[i:current_position] * repetitions + data[i:i+last]\n",
    "\n",
    "                if matched_string == substring and len(substring) > best_match_length:\n",
    "                    best_match_distance = current_position - i \n",
    "                    best_match_length = len(substring)\n",
    "\n",
    "        if best_match_distance > 0 and best_match_length > 0:\n",
    "            return (best_match_distance, best_match_length)\n",
    "        \n",
    "        return None\n",
    "    \n",
    "if __name__ == \"__main__\":  \n",
    "    compressor = LZ77Compressor(window_size=20) # window_size is optional\n",
    "\n",
    "    #Read from a file and Write to a file\n",
    "    input_file_path = 'input.txt'\n",
    "    output_file_path = 'output.txt'\n",
    "    result_file_path = 'result.txt'\n",
    "    \n",
    "    compressed_data = compressor.compress(input_file_path,output_file_path) #Compress the \"input_file\"\n",
    "    decompressed_data = str(compressor.decompress(output_file_path,result_file_path))#Decompress the \"output_file\"\n",
    "\n",
    "    print (\"\\n\")\n",
    "    with open(input_file_path, 'r') as input_file: #Read a file and save the result in the variable \"original_data\"\n",
    "                original_data = input_file.read()\n",
    "                original_data = original_data[:-1] #Delete the last character, \\n\n",
    "\n",
    "    with open(result_file_path, 'r') as input_file: #Read a file and save the result in the variable \"result_data\"\n",
    "                result_data = input_file.read()\n",
    "    \n",
    "    print(\"The content of the first file is:\" , original_data)\n",
    "    print(\"The content of the decompress file is:\" , result_data)\n",
    "\n",
    "    if original_data == result_data:\n",
    "        result = True\n",
    "    else:\n",
    "        result = False\n",
    "\n",
    "    print(\"Are both files similar?\", result)"
   ]
  },
  {
   "cell_type": "markdown",
   "metadata": {
    "slideshow": {
     "slide_type": "slide"
    }
   },
   "source": [
    "## 2. LZ78 [[Ziv and Lempel, 1978]](https://scholar.google.es/scholar?hl=es&as_sdt=0%2C5&q=Ziv+Lempel+1978&btnG=)\n",
    "\n",
    "* In 1978, Ziv and Lempel published the [LZ78 algorithm](https://en.wikipedia.org/wiki/LZ77_and_LZ78).\n",
    "\n",
    "* LZ78 represents the dictionary in a recursive way with the idea\n",
    "  of reducing the memory used for representing the strings in the dictionary. Now, each\n",
    "  entry in the dictionary is a pair $wk$, where $w$ is an index to\n",
    "  an entry of the dictionary and $k$ is a symbol. In fact, each pair $wk$\n",
    "  represents the string that results from the concatenation of the string\n",
    "  $w$ and the symbol $k$, where $w$ can be recursively computed in the same way\n",
    "  we have found $wk$.\n",
    "  \n",
    "* We will denote the string that $w$ represents by *string*$(w)$.\n",
    "  \n",
    "* The empty string is obtained by *string*$(0)$."
   ]
  },
  {
   "cell_type": "markdown",
   "metadata": {
    "slideshow": {
     "slide_type": "subslide"
    }
   },
   "source": [
    "### Encoder\n",
    "\n",
    "1. $w\\leftarrow 0$.\n",
    "2. While the input is not exhausted:\n",
    "    1. $k\\leftarrow$ next input symbol.\n",
    "    2. If $wk$ is found in the dictionary, then:\n",
    "        1. $w\\leftarrow$ address of $wk$ in the dictionary.\n",
    "    3. Else:\n",
    "        1. Output $wk$.\n",
    "        2. Insert $wk$ in the dictionary.\n",
    "        3. $w\\leftarrow 0$."
   ]
  },
  {
   "cell_type": "markdown",
   "metadata": {
    "slideshow": {
     "slide_type": "subslide"
    }
   },
   "source": [
    "### Example\n",
    "<img src=\"data/LZ78_encoding_example.png\" width=\"700\">"
   ]
  },
  {
   "cell_type": "markdown",
   "metadata": {
    "slideshow": {
     "slide_type": "subslide"
    }
   },
   "source": [
    "### Decoder\n",
    "\n",
    "1. While the input is not exhausted:\n",
    "    1. Input $wk$.\n",
    "    2. Output $\\text{string}(w)$.\n",
    "    3. Output $k$.\n",
    "    4. Insert $wk$ in the dictionary."
   ]
  },
  {
   "cell_type": "markdown",
   "metadata": {
    "slideshow": {
     "slide_type": "subslide"
    }
   },
   "source": [
    "### Example\n",
    "<img src=\"data/LZ78_decoding_example.png\" width=\"600\">"
   ]
  },
  {
   "cell_type": "markdown",
   "metadata": {
    "slideshow": {
     "slide_type": "subslide"
    }
   },
   "source": [
    "### Lab"
   ]
  },
  {
   "cell_type": "code",
   "execution_count": 2,
   "metadata": {},
   "outputs": [
    {
     "name": "stdout",
     "output_type": "stream",
     "text": [
      "['H', 'o', 'l', 'a', ',', ' ', 's', 'o', 'y', ' ', 'C', 258, 'u', 'd', 'i', 'o', ' ', 264, 'e', 's', 't', 'e', ' ', 'a', 'l', 'g', 'o', 'r', 'i', 't', 'm', 271, 274, ' ', 'c', 282, 'r', 'e', 'c', 't', 'o', '.', 297]\n",
      "Hola, soy Claudio y este algoritmo es correcto...\n",
      "\n",
      "['A', 'A', 'B', 'B', 256, 257, 258, 260, 261, 262, 263, 258, 267, 257, 269]\n",
      "AABBAAABBBAAAABBBBAAAAABBBBBABABA\n",
      "\n",
      "['T', 'O', 'B', 'E', 'O', 'R', 'N', 'O', 'T', 256, 258, 260, 265, 259, 261, 263]\n",
      "TOBEORNOTTOBEORTOBEORNOT\n"
     ]
    }
   ],
   "source": [
    "import io\n",
    "\n",
    "def encoder(uncompressed):\n",
    "    \"\"\"Compress a string to a list of output symbols.\"\"\"\n",
    "\n",
    "    # Build the dictionary.\n",
    "    dict_size = 256\n",
    "    dictionary = {chr(i): chr(i) for i in range(dict_size)}\n",
    "\n",
    "    w = \"\"\n",
    "    result = []\n",
    "    for k in uncompressed:\n",
    "        wk = w + k\n",
    "        if wk in dictionary:\n",
    "            w = wk\n",
    "        else:\n",
    "            result.append(dictionary[w])\n",
    "            # Add wk to the dictionary.\n",
    "            dictionary[wk] = dict_size\n",
    "            dict_size += 1\n",
    "            w = k\n",
    "\n",
    "    # Output the code for w.\n",
    "    if w:\n",
    "        result.append(dictionary[w])\n",
    "    return result\n",
    "\n",
    "\n",
    "def decoder(compressed):\n",
    "    \"\"\"Decompress a list of output ks to a string.\"\"\"\n",
    "\n",
    "    # Build the dictionary.\n",
    "    dict_size = 256\n",
    "    dictionary = {chr(i): chr(i) for i in range(dict_size)}\n",
    "\n",
    "    # use io.StringIO(), otherwise this becomes O(N^2)\n",
    "    # due to string concatenation in a loop\n",
    "    result = io.StringIO()\n",
    "    w = compressed.pop(0)\n",
    "    result.write(w)\n",
    "    for k in compressed:\n",
    "        if k in dictionary:\n",
    "            entry = dictionary[k]\n",
    "        elif k == dict_size:\n",
    "            entry = w + w[0]\n",
    "        else:\n",
    "            raise ValueError('Bad compressed k: %s' % k)\n",
    "        result.write(entry)\n",
    "\n",
    "        # Add w+entry[0] to the dictionary.\n",
    "        dictionary[dict_size] = w + entry[0]\n",
    "        dict_size += 1\n",
    "\n",
    "        w = entry\n",
    "    return result.getvalue()\n",
    "\n",
    "\n",
    "# Testing the algorithm\n",
    "cadena = \"Hola, soy Claudio y este algoritmo es correcto...\"\n",
    "compressed = encoder(cadena)\n",
    "print (compressed)\n",
    "decompressed = decoder(compressed)\n",
    "print (decompressed)\n",
    "\n",
    "print()\n",
    "\n",
    "# Chains in which we can see this algorithm compresses much more\n",
    "cadena = \"AABBAAABBBAAAABBBBAAAAABBBBBABABA\"\n",
    "compressed = encoder(cadena)\n",
    "print (compressed)\n",
    "decompressed = decoder(compressed)\n",
    "print (decompressed)\n",
    "\n",
    "print()\n",
    "\n",
    "# Another example\n",
    "cadena = \"TOBEORNOTTOBEORTOBEORNOT\"\n",
    "compressed = encoder(cadena)\n",
    "print (compressed)\n",
    "decompressed = decoder(compressed)\n",
    "print (decompressed)"
   ]
  },
  {
   "cell_type": "markdown",
   "metadata": {
    "slideshow": {
     "slide_type": "slide"
    }
   },
   "source": [
    "## 3. LZW [[Welch, 1984]](https://scholar.google.es/scholar?hl=es&as_sdt=0%2C5&q=Terry+Welch+1984&btnG=)\n",
    "\n",
    "* In 1984, Terry A. Welch proposed the [LZW algorithm](https://en.wikipedia.org/wiki/Lempel%E2%80%93Ziv%E2%80%93Welch),\n",
    "  an improved version of the LZ78 algorithm that does not\n",
    "  writes raw symbols ($k$ fields) to the code-stream.\n",
    "\n",
    "* LZW was selected as the encoding engine for the [GIF (Graphics\n",
    "  Interchange Format)](https://en.wikipedia.org/wiki/GIF), and for the compressor [`compress`](https://en.wikipedia.org/wiki/Compress).\n",
    "  \n",
    "* Initially, the dictionary is filled with the $2^k$ possible\n",
    "  symbols (*roots*), that are stored in the first entries (for 1-byte symbols: $0\\cdots255$)."
   ]
  },
  {
   "cell_type": "markdown",
   "metadata": {
    "slideshow": {
     "slide_type": "subslide"
    }
   },
   "source": [
    "### Encoder\n",
    "\n",
    "1. $w\\leftarrow$ first input symbol.\n",
    "2. While the input is not exhausted:\n",
    "    1. $k\\leftarrow$ next input symbol.\n",
    "    2. If $wk$ is found in the dictionary, then:\n",
    "        1. $w\\leftarrow$ address of $wk$ in the dictionary.\n",
    "    3. Else:\n",
    "        1. Output $\\leftarrow w$.\n",
    "        2. Insert $wk$ in the dictionary.\n",
    "        3. $w\\leftarrow k$."
   ]
  },
  {
   "cell_type": "markdown",
   "metadata": {
    "slideshow": {
     "slide_type": "subslide"
    }
   },
   "source": [
    "### Example\n",
    "<img src=\"data/LZW_encoding_example.png\" width=\"800\">"
   ]
  },
  {
   "cell_type": "markdown",
   "metadata": {
    "slideshow": {
     "slide_type": "subslide"
    }
   },
   "source": [
    "### Decoder\n",
    "\n",
    "1. $c\\leftarrow$ first input code-word.\n",
    "2. Output $c$.\n",
    "3. $c'\\leftarrow c$.\n",
    "4. While the input is not exhausted:\n",
    "    1. $c\\leftarrow$ next input code-word.\n",
    "    2. $w\\leftarrow c'$.\n",
    "    3. If $c$ is found in the dictionary, then:\n",
    "        1. Output string$(c)$.\n",
    "    4. Else:\n",
    "        1. Output string$(w)$.\n",
    "        2. Output $k$.\n",
    "    5. $k\\leftarrow$ first symbol of the last output.\n",
    "    6. Insert $wk$ in the dictionary.\n",
    "    7. $c'\\leftarrow c$."
   ]
  },
  {
   "cell_type": "markdown",
   "metadata": {
    "slideshow": {
     "slide_type": "subslide"
    }
   },
   "source": [
    "### Example\n",
    "<img src=\"data/LZW_decoding_example.png\" width=\"600\">"
   ]
  },
  {
   "cell_type": "markdown",
   "metadata": {
    "slideshow": {
     "slide_type": "subslide"
    }
   },
   "source": [
    "### Lab"
   ]
  },
  {
   "cell_type": "code",
   "execution_count": 4,
   "metadata": {},
   "outputs": [
    {
     "name": "stdout",
     "output_type": "stream",
     "text": [
      "[72, 111, 108, 97, 44, 32, 115, 111, 121, 32, 67, 258, 117, 100, 105, 111, 32, 264, 101, 115, 116, 101, 32, 97, 108, 103, 111, 114, 105, 116, 109, 271, 274, 32, 99, 282, 114, 101, 99, 116, 111, 46, 297]\n",
      "Hola, soy Claudio y este algoritmo es correcto...\n",
      "\n",
      "[65, 65, 66, 66, 256, 257, 258, 260, 261, 262, 263, 258, 267, 257, 269]\n",
      "AABBAAABBBAAAABBBBAAAAABBBBBABABA\n",
      "\n",
      "[84, 79, 66, 69, 79, 82, 78, 79, 84, 256, 258, 260, 265, 259, 261, 263]\n",
      "TOBEORNOTTOBEORTOBEORNOT\n"
     ]
    }
   ],
   "source": [
    "# https://rosettacode.org/wiki/LZW_compression#Python\n",
    "\n",
    "# TO-DO\n",
    "import io\n",
    "\n",
    "def encoder(uncompressed):\n",
    "    \"\"\"Compress a string to a list of output symbols.\"\"\"\n",
    " \n",
    "    # Build the dictionary.\n",
    "    dict_size = 256\n",
    "    dictionary = {chr(i): i for i in range(dict_size)}\n",
    " \n",
    "    w = \"\"\n",
    "    result = []\n",
    "    for k in uncompressed:\n",
    "        wk = w + k\n",
    "        if wk in dictionary:\n",
    "            w = wk\n",
    "        else:\n",
    "            result.append(dictionary[w])\n",
    "            # Add wk to the dictionary.\n",
    "            dictionary[wk] = dict_size\n",
    "            dict_size += 1\n",
    "            w = k\n",
    " \n",
    "    # Output the code for w.\n",
    "    if w:\n",
    "        result.append(dictionary[w])\n",
    "    return result\n",
    " \n",
    " \n",
    "   \n",
    "def decoder(compressed):\n",
    "    \"\"\"Decompress a list of output ks to a string.\"\"\"\n",
    "     \n",
    "    # Build the dictionary.\n",
    "    dict_size = 256\n",
    "    dictionary = {i: chr(i) for i in range(dict_size)}\n",
    " \n",
    "    # use io.StringIO(), otherwise this becomes O(N^2)\n",
    "    # due to string concatenation in a loop\n",
    "    result = io.StringIO()\n",
    "    w = chr(compressed.pop(0))\n",
    "    result.write(w)\n",
    "    for k in compressed:\n",
    "        if k in dictionary:\n",
    "            entry = dictionary[k]\n",
    "        elif k == dict_size:\n",
    "            entry = w + w[0]\n",
    "        else:\n",
    "            raise ValueError('Bad compressed k: %s' % k)\n",
    "        result.write(entry)\n",
    " \n",
    "        # Add w+entry[0] to the dictionary.\n",
    "        dictionary[dict_size] = w + entry[0]\n",
    "        dict_size += 1\n",
    " \n",
    "        w = entry\n",
    "    return result.getvalue()\n",
    " \n",
    "\n",
    "# Testing the algorithm\n",
    "cadena = \"Hola, soy Claudio y este algoritmo es correcto...\"\n",
    "compressed = encoder(cadena)\n",
    "print (compressed)\n",
    "decompressed = decoder(compressed)\n",
    "print (decompressed)\n",
    "\n",
    "print()\n",
    "\n",
    "# Other examples\n",
    "cadena = \"AABBAAABBBAAAABBBBAAAAABBBBBABABA\"\n",
    "compressed = encoder(cadena)\n",
    "print (compressed)\n",
    "decompressed = decoder(compressed)\n",
    "print (decompressed)\n",
    "\n",
    "print()\n",
    "\n",
    "cadena = \"TOBEORNOTTOBEORTOBEORNOT\"\n",
    "compressed = encoder(cadena)\n",
    "print (compressed)\n",
    "decompressed = decoder(compressed)\n",
    "print (decompressed)"
   ]
  }
 ],
 "metadata": {
  "celltoolbar": "Slideshow",
  "kernelspec": {
   "display_name": "Python 3",
   "language": "python",
   "name": "python3"
  },
  "language_info": {
   "codemirror_mode": {
    "name": "ipython",
    "version": 3
   },
   "file_extension": ".py",
   "mimetype": "text/x-python",
   "name": "python",
   "nbconvert_exporter": "python",
   "pygments_lexer": "ipython3",
   "version": "3.6.3"
  }
 },
 "nbformat": 4,
 "nbformat_minor": 1
}
